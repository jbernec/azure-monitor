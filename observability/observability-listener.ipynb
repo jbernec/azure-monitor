{
 "cells": [
  {
   "cell_type": "markdown",
   "metadata": {
    "application/vnd.databricks.v1+cell": {
     "cellMetadata": {},
     "inputWidgets": {},
     "nuid": "3208b744-abee-4807-a706-f619cdc17204",
     "showTitle": false,
     "title": ""
    }
   },
   "source": [
    "#### Implementing Azure Monitor Observability for a Data Engineering platform.\n",
    "\n",
    "* 1. Define required OTLP and Logs Ingestion API packages\n",
    "    * azure-core==1.30.0\n",
    "    * azure-identity==1.15.0\n",
    "    * azure-monitor-opentelemetry-exporter==1.0.0b22\n",
    "    * azure-monitor-ingestion==1.0.3\n",
    "    * azure-monitor-opentelemetry==1.0.0\n",
    "    * opentelemetry-api==1.22.0\n",
    "    * opentelemetry-sdk==1.22.0\n",
    "* 2. Use the Logs Ingestion API to track and send custom audit metrics/values to Log Analytics custom tables and OpenTelementry Protocol (OTLP) framework to export exception logs to the AppExceptions native table in Azure Monitor Log Analytics and the Exceptions Log table in Azure Monitor AppInsights.\n",
    "\n",
    "* 3. To edit the log analytics DCR and custom logs/tables schema requires two steps:\n",
    "    * Manually edit the schema of the custom log in the Log analytics tables view in the azure portal.\n",
    "    * Run the custom powershell code provided in the following link to edit the DCR: https://learn.microsoft.com/en-us/azure/azure-monitor/essentials/data-collection-rule-edit#putting-everything-together\n",
    "\n",
    "* 4. Info logs get exported to the traces logs. Exceptions get exported to the Exceptions log in App Insight and AppExceptions log in the Log Analytics workspace. Custom audits get sent to the specified custom log/table in the Log Analytics workspace using the logs ingestion API."
   ]
  },
  {
   "cell_type": "code",
   "execution_count": 0,
   "metadata": {
    "application/vnd.databricks.v1+cell": {
     "cellMetadata": {},
     "inputWidgets": {},
     "nuid": "7b7045e1-5972-498c-8c7f-9a920f4a0dc0",
     "showTitle": false,
     "title": ""
    }
   },
   "outputs": [],
   "source": [
    "# https://pypi.org/project/azure-monitor-opentelemetry-exporter/\n",
    "# https://github.com/open-telemetry/opentelemetry-python\n",
    "# https://github.com/Azure/azure-sdk-for-python/blob/main/sdk/monitor/azure-monitor-opentelemetry-exporter/samples/logs/sample_exception.py\n",
    "\n",
    "# https://learn.microsoft.com/en-us/azure/azure-monitor/app/opentelemetry-configuration?tabs=python#set-the-cloud-role-name-and-the-cloud-role-instance\n",
    "# You can also set environment variables using the spark_env_vars field in the Create cluster request or Edit cluster request Clusters API endpoints. \n",
    "# https://learn.microsoft.com/en-us/azure/databricks/dev-tools/api/latest/clusters#--request-structure-of-the-cluster-definition\n",
    "# https://learn.microsoft.com/en-us/azure/databricks/clusters/init-scripts\n"
   ]
  },
  {
   "cell_type": "markdown",
   "metadata": {
    "application/vnd.databricks.v1+cell": {
     "cellMetadata": {},
     "inputWidgets": {},
     "nuid": "6af872d3-5a38-47ae-83eb-3a16307dac5b",
     "showTitle": false,
     "title": ""
    }
   },
   "source": [
    "##### Log Analytics vs. App Insights: https://turbo360.com/blog/azure-application-insights-vs-log-analytics"
   ]
  },
  {
   "cell_type": "code",
   "execution_count": 0,
   "metadata": {
    "application/vnd.databricks.v1+cell": {
     "cellMetadata": {},
     "inputWidgets": {},
     "nuid": "46ce7053-2b2e-4ee1-9fbd-231116f9f936",
     "showTitle": true,
     "title": "Configure ADLS Gen 2 Access"
    }
   },
   "outputs": [],
   "source": [
    "# Permission is based on File or folder based ACL assignments to the Data Lake filesystem (container) . RBAC assignments to the top level Azure Data Lake resource is not required.\n",
    "# https://docs.databricks.com/storage/azure-storage.html\n",
    "spark.conf.set(\"fs.azure.account.auth.type.adls05.dfs.core.windows.net\", \"OAuth\")\n",
    "spark.conf.set(\"fs.azure.account.oauth.provider.type.adls05.dfs.core.windows.net\", \"org.apache.hadoop.fs.azurebfs.oauth2.ClientCredsTokenProvider\")\n",
    "spark.conf.set(\"fs.azure.account.oauth2.client.id.adls05.dfs.core.windows.net\", dbutils.secrets.get(\"myscope\", key=\"clientid\"))\n",
    "spark.conf.set(\"fs.azure.account.oauth2.client.secret.adls05.dfs.core.windows.net\", dbutils.secrets.get(\"myscope\", key=\"clientsecret\"))\n",
    "spark.conf.set(\"fs.azure.account.oauth2.client.endpoint.adls05.dfs.core.windows.net\", \"https://login.microsoftonline.com/{}/oauth2/token\".format(dbutils.secrets.get(\"myscope\", key=\"tenantid\")))"
   ]
  },
  {
   "cell_type": "code",
   "execution_count": 0,
   "metadata": {
    "application/vnd.databricks.v1+cell": {
     "cellMetadata": {},
     "inputWidgets": {},
     "nuid": "700b1f61-6f93-48b5-8f32-3d09c784b223",
     "showTitle": true,
     "title": "Import Required Packages"
    }
   },
   "outputs": [],
   "source": [
    "# https://realpython.com/python-logging/\n",
    "# https://opentelemetry.io/docs/instrumentation/python/\n",
    "# https://betterstack.com/community/guides/logging/how-to-start-logging-with-python/\n",
    "\n",
    "from datetime import datetime\n",
    "import os\n",
    "import json\n",
    "import logging\n",
    "from pyspark.sql.functions import col\n",
    "from pyspark.sql.streaming import StreamingQueryListener\n",
    "from pyspark.sql.session import SparkSession\n",
    "from pyspark.sql.types import TimestampType\n",
    "from pyspark.sql import DataFrame\n",
    "import azure.identity\n",
    "from azure.identity import DefaultAzureCredential, EnvironmentCredential, ManagedIdentityCredential, SharedTokenCacheCredential\n",
    "from azure.identity import ClientSecretCredential\n",
    "from azure.monitor.ingestion import LogsIngestionClient\n",
    "from azure.core.exceptions import HttpResponseError\n",
    "from opentelemetry._logs import (\n",
    "    get_logger_provider,\n",
    "    set_logger_provider,\n",
    ")\n",
    "from opentelemetry.sdk._logs import (\n",
    "    LoggerProvider,\n",
    "    LoggingHandler,\n",
    ")\n",
    "from opentelemetry.sdk._logs.export import BatchLogRecordProcessor\n",
    "from azure.monitor.opentelemetry.exporter import AzureMonitorLogExporter"
   ]
  },
  {
   "cell_type": "code",
   "execution_count": 0,
   "metadata": {
    "application/vnd.databricks.v1+cell": {
     "cellMetadata": {},
     "inputWidgets": {},
     "nuid": "b46a3624-e793-4af8-8137-851bf9dcaaba",
     "showTitle": true,
     "title": "Set Client Secret Credential"
    }
   },
   "outputs": [],
   "source": [
    "tenant_id=dbutils.secrets.get(scope=\"myscope\", key=\"tenantid\")\n",
    "client_id = dbutils.secrets.get(scope=\"myscope\", key=\"clientid\")\n",
    "client_secret = dbutils.secrets.get(scope=\"myscope\", key=\"clientsecret\")\n",
    "#credential = DefaultAzureCredential()\n",
    "credential = azure.identity.ClientSecretCredential(tenant_id=tenant_id, client_id=client_id, client_secret=client_secret)"
   ]
  },
  {
   "cell_type": "code",
   "execution_count": 0,
   "metadata": {
    "application/vnd.databricks.v1+cell": {
     "cellMetadata": {},
     "inputWidgets": {},
     "nuid": "fbb2e527-9655-4106-829f-ba1e6902a35b",
     "showTitle": false,
     "title": ""
    }
   },
   "outputs": [],
   "source": [
    "class Listener(StreamingQueryListener):\n",
    "    def __init__(self, *, logger, **kwargs):\n",
    "        super().__init__(**kwargs)\n",
    "        self._logger = logger\n",
    "\n",
    "    def onQueryStarted(self, event):\n",
    "        self._logger.info(f\"{event.name} [{event.id}] started\")\n",
    "\n",
    "    def onQueryProgress(self, event):\n",
    "        row = event.progress.observedMetrics.get(\"metric\")\n",
    "        if row is not None:\n",
    "            self._logger.info(f\"{row.cnt} rows were processed\")\n",
    "            self._logger(f\"{event.progress}\")\n",
    "\n",
    "    def onQueryTerminated(self, event):\n",
    "        self._logger.info(f\"{event.name} [{event.id}] terminated\")\n"
   ]
  },
  {
   "cell_type": "code",
   "execution_count": 0,
   "metadata": {
    "application/vnd.databricks.v1+cell": {
     "cellMetadata": {},
     "inputWidgets": {},
     "nuid": "7a1227f7-a7e5-431d-bbd4-8f026ac25cf0",
     "showTitle": true,
     "title": "Configure OTLP Logger Components"
    }
   },
   "outputs": [],
   "source": [
    "set_logger_provider(LoggerProvider())\n",
    "exporter = AzureMonitorLogExporter.from_connection_string(\n",
    "    dbutils.secrets.get(\"myscope\", key=\"appinsightsconnstr\"), credential=credential\n",
    ")\n",
    "get_logger_provider().add_log_record_processor(BatchLogRecordProcessor(exporter))\n",
    "\n",
    "# Attach LoggingHandler to namespaced logger\n",
    "handler = LoggingHandler()\n",
    "logger = logging.getLogger(__name__)\n",
    "logger.addHandler(handler)\n",
    "logger.setLevel(logging.INFO)\n",
    "listener = Listener(logger=logger)\n",
    "spark.streams.addListener(listener=listener)"
   ]
  },
  {
   "cell_type": "markdown",
   "metadata": {
    "application/vnd.databricks.v1+cell": {
     "cellMetadata": {},
     "inputWidgets": {},
     "nuid": "ea666acf-6dc6-4802-a2a1-9c4d18ffc9c2",
     "showTitle": false,
     "title": ""
    }
   },
   "source": [
    "##### Data Ingestion Test"
   ]
  },
  {
   "cell_type": "code",
   "execution_count": 0,
   "metadata": {
    "application/vnd.databricks.v1+cell": {
     "cellMetadata": {},
     "inputWidgets": {},
     "nuid": "cdb3eba5-ebda-4f5e-a6ed-4432812713df",
     "showTitle": false,
     "title": ""
    }
   },
   "outputs": [],
   "source": [
    "# ingest content data into df\n",
    "def read_data_files(spark: SparkSession, file_path: str) -> DataFrame:\n",
    "    try:\n",
    "        pass\n",
    "        df = (\n",
    "            spark.read.format(\"json\")\n",
    "            .option(\"header\", True)\n",
    "            .option(\"inferSchema\", True)\n",
    "            .load(file_path)\n",
    "            .withColumn(\n",
    "                \"tpep_dropoff_datetime\",\n",
    "                col=col(\"tpep_dropoff_datetime\").cast(TimestampType()),\n",
    "            )\n",
    "            .withColumn(\n",
    "                \"tpep_pickup_datetime\",\n",
    "                col=col(\"tpep_pickup_datetime\").cast(TimestampType()),\n",
    "            )\n",
    "        )\n",
    "\n",
    "        properties = {\n",
    "            \"notebook_name\": \"observability_poc\",\n",
    "            \"taxidata_ingestion_status\": \"success\",\n",
    "            \"level\": \"info\",\n",
    "        }\n",
    "        logger.info(\n",
    "            \"Batch read of nytaxi json files, new column addition and data type convertion were successful.\",\n",
    "            extra=properties,\n",
    "            exc_info=True\n",
    "        )\n",
    "        return df\n",
    "    except Exception as e:\n",
    "        properties = {\n",
    "            \"notebook_name\": \"observability_poc\",\n",
    "            \"read_data_files_error\": \"true\",\n",
    "        }\n",
    "        logger.error(\n",
    "            \"Exception occured\",\n",
    "            stack_info=True,\n",
    "            exc_info=True,\n",
    "            extra=properties,\n",
    "        )\n",
    "\n",
    "\n",
    "try:\n",
    "    pass\n",
    "    data_path = \"dbfs:/databricks-datasets/nyctaxi/sample/json/\"\n",
    "    df_json = read_data_files(spark=spark, file_path=data_path)\n",
    "    df_json.display()\n",
    "    record_count = df_json.count()\n",
    "    print(record_count)\n",
    "except Exception as e:\n",
    "    properties = {\n",
    "        \"notebook_name\": \"observability_poc\",\n",
    "        \"dataframe_display_error\": \"true\",\n",
    "    }\n",
    "    logger.error(\n",
    "        \"Error occurred reading and displaying dataframe\",\n",
    "        exc_info=True,\n",
    "        extra=properties,\n",
    "    )\n",
    "    print(\"check the azure monitor exception logs\")"
   ]
  },
  {
   "cell_type": "code",
   "execution_count": 0,
   "metadata": {
    "application/vnd.databricks.v1+cell": {
     "cellMetadata": {},
     "inputWidgets": {},
     "nuid": "a62c6e61-99dc-4922-bbbd-1e93b93d9cef",
     "showTitle": false,
     "title": ""
    }
   },
   "outputs": [],
   "source": [
    "# datetime formats\n",
    "\n",
    "print(datetime.now().strftime(\"%Y-%d-%m %H:%M:%S.%f\"))\n",
    "\n",
    "date_time = datetime.now().strftime(\"%m/%d/%Y, %H:%M:%S\")\n",
    "print(date_time)"
   ]
  },
  {
   "cell_type": "code",
   "execution_count": 0,
   "metadata": {
    "application/vnd.databricks.v1+cell": {
     "cellMetadata": {},
     "inputWidgets": {},
     "nuid": "152c2a6f-8b9e-428b-a67d-a4a283d19545",
     "showTitle": false,
     "title": ""
    }
   },
   "outputs": [],
   "source": [
    "# Clear out data from previous demo execution\n",
    "\n",
    "username = spark.sql(\"SELECT regexp_replace(current_user(), '[^a-zA-Z0-9]', '_')\").first()[0]\n",
    "checkpoint_path= \"abfss://adlscontainer@adls05.dfs.core.windows.net/jsondata/_checkpoint\"\n",
    "schema_location = \"abfss://adlscontainer@adls05.dfs.core.windows.net/jsondata/_schematracking\"\n",
    "target_path = \"abfss://adlscontainer@adls05.dfs.core.windows.net/jsondata/output\"\n",
    "table_name = f\"{username}_nytaxi\"\n",
    "spark.sql(f\"DROP TABLE IF EXISTS {table_name}\")\n",
    "dbutils.fs.rm(checkpoint_path, True)\n",
    "dbutils.fs.rm(target_path, True)\n",
    "dbutils.fs.rm(schema_location, True)"
   ]
  },
  {
   "cell_type": "code",
   "execution_count": 0,
   "metadata": {
    "application/vnd.databricks.v1+cell": {
     "cellMetadata": {},
     "inputWidgets": {},
     "nuid": "76a6e944-a83f-47f1-9d7e-a6be86de27c2",
     "showTitle": false,
     "title": ""
    }
   },
   "outputs": [],
   "source": [
    "options = {\n",
    "    \"cloudFiles.format\": \"json\",\n",
    "    \"cloudFiles.inferColumnTypes\": True,\n",
    "    \"cloudFiles.inferSchema\": True,\n",
    "    \"cloudFiles.schemaLocation\": schema_location,\n",
    "}"
   ]
  },
  {
   "cell_type": "code",
   "execution_count": 0,
   "metadata": {
    "application/vnd.databricks.v1+cell": {
     "cellMetadata": {},
     "inputWidgets": {},
     "nuid": "246f247a-c8e5-413e-a271-2a98535e49a9",
     "showTitle": false,
     "title": ""
    }
   },
   "outputs": [],
   "source": [
    "def start_streaming_query(target_path:str):\n",
    "    while True:\n",
    "        try:\n",
    "            q = (\n",
    "                spark.readStream.format(\"cloudFiles\")\n",
    "                .options(**options)\n",
    "                .load(\"dbfs:/databricks-datasets/nyctaxi/sample/json/\")\n",
    "                .writeStream.format(\"delta\")\n",
    "                .trigger(availableNow=True)\n",
    "                .option(\"mergeSchema\", \"true\")\n",
    "                .option(\"checkpointLocation\", checkpoint_path)\n",
    "                .queryName(\"nytaxi_query\")\n",
    "                .option(\"path\", target_path)\n",
    "                .start()\n",
    "            )\n",
    "            q.awaitTermination()\n",
    "            return q\n",
    "            properties = {\n",
    "            \"notebook_name\": \"observability_poc\",\n",
    "            \"notebook_cell_execution\": \"nytaxi data streaming query\",\n",
    "            }\n",
    "            logger.info(\"streaming query execution was successful\", exc_info=True, extra=properties)\n",
    "            print(\"check the azure monitor Apptraces logs\")\n",
    "        except BaseException as e:\n",
    "            properties = {\n",
    "            \"notebook_name\": \"observability_poc\",\n",
    "            \"notebook_cell_execution\": \"nytaxi data streaming query\",\n",
    "            }\n",
    "            logger.exception(\"streaming query execution encountered an exception\", exc_info=True, extra=properties)\n",
    "            print(\"check the azure monitor exception logs\")\n",
    "            # Adding a new column will trigger an UnknownFieldException. In this case we just restart the stream:\n",
    "            if not (\"UnknownFieldException\" in str(e.stackTrace)):\n",
    "                raise e\n",
    "\n"
   ]
  },
  {
   "cell_type": "code",
   "execution_count": 0,
   "metadata": {
    "application/vnd.databricks.v1+cell": {
     "cellMetadata": {},
     "inputWidgets": {},
     "nuid": "4de46c63-f17a-4fe2-95f6-de208556b403",
     "showTitle": false,
     "title": ""
    }
   },
   "outputs": [],
   "source": [
    "query_ = start_streaming_query(target_path=target_path)"
   ]
  },
  {
   "cell_type": "code",
   "execution_count": 0,
   "metadata": {
    "application/vnd.databricks.v1+cell": {
     "cellMetadata": {},
     "inputWidgets": {},
     "nuid": "6f3d7f9b-793d-475b-bcae-2bdb5c09025c",
     "showTitle": false,
     "title": ""
    }
   },
   "outputs": [],
   "source": [
    "\n",
    "query_metrics = [{\n",
    "    \"TotalInputRowsCount\": query_.lastProgress[\"numInputRows\"],\n",
    "    \"ProcessedInputRowsPerSecond\": query_.lastProgress[\"processedRowsPerSecond\"],\n",
    "    \"InputSink\": query_.lastProgress[\"sink\"][\"description\"],\n",
    "    \"InputSources\": query_.lastProgress[\"sources\"][0][\"description\"],\n",
    "    \"TimeGenerated\": query_.lastProgress[\"timestamp\"],\n",
    "    \"Application\": \"observability_streaming_query\",\n",
    "    \"RequiredClusterfeature\": \"photon_predictive_io\",\n",
    "    \"JobId\": query_.lastProgress[\"id\"],\n",
    "    \"JobName\": query_.lastProgress[\"name\"],\n",
    "    \"CurrentTableName\": table_name\n",
    "}]\n",
    "\n",
    "query_metrics"
   ]
  },
  {
   "cell_type": "markdown",
   "metadata": {
    "application/vnd.databricks.v1+cell": {
     "cellMetadata": {},
     "inputWidgets": {},
     "nuid": "4011d4d9-98e2-411d-8d09-895d3af14247",
     "showTitle": false,
     "title": ""
    }
   },
   "source": [
    "#### Information for configuring log ingestion client for non-public Azure cloud\n",
    "By default, LogsIngestionClient is configured to connect to the public Azure cloud. To connect to non-public Azure clouds, some additional configuration is required. The appropriate scope for authentication must be provided using the credential_scopes keyword argument. The following example shows how to configure the client to connect to Azure US Government:\n",
    "\n",
    "logs_client = LogsIngestionClient(endpoint, credential_scopes=[\"https://monitor.azure.us//.default\"])\n",
    "\n",
    "https://github.com/Azure/azure-sdk-for-python/blob/main/sdk/monitor/azure-monitor-ingestion/README.md#configure-clients-for-non-public-azure-clouds"
   ]
  },
  {
   "cell_type": "code",
   "execution_count": 0,
   "metadata": {
    "application/vnd.databricks.v1+cell": {
     "cellMetadata": {},
     "inputWidgets": {},
     "nuid": "ceea81b0-63bf-487f-be1c-48c3648438cf",
     "showTitle": false,
     "title": ""
    }
   },
   "outputs": [],
   "source": [
    "# Configure Log Ingestion Client for Azure Commercial Cloud\n",
    "# https://learn.microsoft.com/en-us/azure/azure-monitor/logs/notebooks-azure-monitor-logs\n",
    "\n",
    "dce_endpoint = \"https://logsingestionendpoint-jwl7.eastus-1.ingest.monitor.azure.com\" # ingestion endpoint of the Data Collection Endpoint object\n",
    "dcr_immutableid = \"dcr-bc9e64eba16345518a890476255b6827\" # immutableId property of the Data Collection Rule\n",
    "stream_name = \"Custom-ApacheSparkLogs_CL\" # name of the stream in the DCR that represents the destination table\n",
    "\n",
    "# credential = DefaultAzureCredential()\n",
    "client = LogsIngestionClient(endpoint=dce_endpoint, credential=credential, logging_enable=True)\n",
    "\n",
    "# configure the metrics publishing role on the DCR for this operation to be successful.\n",
    "try:\n",
    "    client.upload(rule_id=dcr_immutableid, stream_name=stream_name, logs=query_metrics)\n",
    "except HttpResponseError as e:\n",
    "    print(f\"Upload failed: {e}\")"
   ]
  }
 ],
 "metadata": {
  "application/vnd.databricks.v1+notebook": {
   "dashboards": [],
   "environmentMetadata": null,
   "language": "python",
   "notebookMetadata": {
    "pythonIndentUnit": 4
   },
   "notebookName": "observability-listener",
   "widgets": {}
  }
 },
 "nbformat": 4,
 "nbformat_minor": 0
}
